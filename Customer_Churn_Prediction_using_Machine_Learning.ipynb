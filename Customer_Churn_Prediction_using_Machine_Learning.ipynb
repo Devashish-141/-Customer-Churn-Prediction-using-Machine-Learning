{
  "nbformat": 4,
  "nbformat_minor": 0,
  "metadata": {
    "colab": {
      "provenance": []
    },
    "kernelspec": {
      "name": "python3",
      "display_name": "Python 3"
    },
    "language_info": {
      "name": "python"
    }
  },
  "cells": [
    {
      "cell_type": "code",
      "execution_count": 4,
      "metadata": {
        "colab": {
          "base_uri": "https://localhost:8080/"
        },
        "id": "GMXlCK_Fs2me",
        "outputId": "b5e35b7b-c899-4eb8-9cd9-52b0b624fa0b"
      },
      "outputs": [
        {
          "output_type": "stream",
          "name": "stdout",
          "text": [
            "Dataset path: /kaggle/input/telco-customer-churn/WA_Fn-UseC_-Telco-Customer-Churn.csv\n"
          ]
        },
        {
          "output_type": "stream",
          "name": "stderr",
          "text": [
            "/tmp/ipython-input-4-1224224633.py:25: FutureWarning: A value is trying to be set on a copy of a DataFrame or Series through chained assignment using an inplace method.\n",
            "The behavior will change in pandas 3.0. This inplace method will never work because the intermediate object on which we are setting values always behaves as a copy.\n",
            "\n",
            "For example, when doing 'df[col].method(value, inplace=True)', try using 'df.method({col: value}, inplace=True)' or df[col] = df[col].method(value) instead, to perform the operation inplace on the original object.\n",
            "\n",
            "\n",
            "  data['TotalCharges'].fillna(data['TotalCharges'].median(), inplace=True)\n"
          ]
        },
        {
          "output_type": "stream",
          "name": "stdout",
          "text": [
            "\n",
            "✅ Model Evaluation:\n",
            "Accuracy: 0.8565217391304348\n",
            "              precision    recall  f1-score   support\n",
            "\n",
            "           0       0.86      0.85      0.85      1021\n",
            "           1       0.85      0.87      0.86      1049\n",
            "\n",
            "    accuracy                           0.86      2070\n",
            "   macro avg       0.86      0.86      0.86      2070\n",
            "weighted avg       0.86      0.86      0.86      2070\n",
            "\n",
            "\n",
            "🔍 Churn Prediction for New Customer (1 = Yes, 0 = No): 0\n"
          ]
        },
        {
          "output_type": "stream",
          "name": "stderr",
          "text": [
            "/usr/local/lib/python3.11/dist-packages/sklearn/utils/validation.py:2739: UserWarning: X does not have valid feature names, but StandardScaler was fitted with feature names\n",
            "  warnings.warn(\n"
          ]
        }
      ],
      "source": [
        "# Ensemble model with stacking and balanced class weights\n",
        "!pip install kagglehub xgboost imbalanced-learn --quiet\n",
        "\n",
        "import kagglehub\n",
        "import pandas as pd\n",
        "import numpy as np\n",
        "from sklearn.model_selection import train_test_split\n",
        "from sklearn.preprocessing import LabelEncoder, StandardScaler\n",
        "from sklearn.metrics import accuracy_score, classification_report\n",
        "from sklearn.linear_model import LogisticRegression\n",
        "from sklearn.ensemble import RandomForestClassifier, GradientBoostingClassifier, StackingClassifier\n",
        "from xgboost import XGBClassifier\n",
        "from imblearn.over_sampling import SMOTE\n",
        "import os\n",
        "\n",
        "# Load dataset\n",
        "dataset_path = kagglehub.dataset_download(\"blastchar/telco-customer-churn\")\n",
        "file_path = os.path.join(dataset_path, \"WA_Fn-UseC_-Telco-Customer-Churn.csv\")\n",
        "print(\"Dataset path:\", file_path)\n",
        "\n",
        "data = pd.read_csv(file_path)\n",
        "\n",
        "# Preprocess data\n",
        "data['TotalCharges'] = pd.to_numeric(data['TotalCharges'], errors='coerce')\n",
        "data['TotalCharges'].fillna(data['TotalCharges'].median(), inplace=True)\n",
        "data = data.drop('customerID', axis=1)\n",
        "\n",
        "# Encode categorical columns\n",
        "for col in data.select_dtypes(include='object').columns:\n",
        "    if col != 'Churn':\n",
        "        data[col] = LabelEncoder().fit_transform(data[col])\n",
        "data['Churn'] = data['Churn'].map({'Yes': 1, 'No': 0})\n",
        "\n",
        "# Features and labels\n",
        "X = data.drop('Churn', axis=1)\n",
        "y = data['Churn']\n",
        "\n",
        "# Scale features\n",
        "scaler = StandardScaler()\n",
        "X_scaled = scaler.fit_transform(X)\n",
        "\n",
        "# Address class imbalance with SMOTE\n",
        "sm = SMOTE(random_state=42)\n",
        "X_resampled, y_resampled = sm.fit_resample(X_scaled, y)\n",
        "\n",
        "# Split data\n",
        "X_train, X_test, y_train, y_test = train_test_split(X_resampled, y_resampled, test_size=0.2, random_state=42)\n",
        "\n",
        "# Base models\n",
        "base_models = [\n",
        "    ('rf', RandomForestClassifier(n_estimators=200, max_depth=10, random_state=42)),\n",
        "    ('xgb', XGBClassifier(use_label_encoder=False, eval_metric='logloss', learning_rate=0.1, max_depth=5, n_estimators=200, random_state=42)),\n",
        "    ('gb', GradientBoostingClassifier(n_estimators=200, learning_rate=0.1, max_depth=5, random_state=42))\n",
        "]\n",
        "\n",
        "# Meta model\n",
        "stack_model = StackingClassifier(\n",
        "    estimators=base_models,\n",
        "    final_estimator=LogisticRegression(),\n",
        "    cv=5,\n",
        "    n_jobs=-1\n",
        ")\n",
        "\n",
        "# Train stacked model\n",
        "stack_model.fit(X_train, y_train)\n",
        "y_pred = stack_model.predict(X_test)\n",
        "\n",
        "# Evaluate\n",
        "print(\"\\n✅ Model Evaluation:\")\n",
        "print(\"Accuracy:\", accuracy_score(y_test, y_pred))\n",
        "print(classification_report(y_test, y_pred))\n",
        "\n",
        "# New customer prediction\n",
        "new_customer = np.zeros((1, X.shape[1]))\n",
        "new_customer[0, X.columns.get_loc('tenure')] = 10\n",
        "new_customer[0, X.columns.get_loc('MonthlyCharges')] = 70\n",
        "new_customer[0, X.columns.get_loc('TotalCharges')] = 700\n",
        "new_customer_scaled = scaler.transform(new_customer)\n",
        "\n",
        "prediction = stack_model.predict(new_customer_scaled)[0]\n",
        "print(\"\\n🔍 Churn Prediction for New Customer (1 = Yes, 0 = No):\", prediction)\n"
      ]
    }
  ]
}